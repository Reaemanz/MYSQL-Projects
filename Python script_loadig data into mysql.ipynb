{
 "cells": [
  {
   "cell_type": "code",
   "execution_count": 12,
   "metadata": {},
   "outputs": [
    {
     "name": "stdout",
     "output_type": "stream",
     "text": [
      "Data imported successfully.\n"
     ]
    },
    {
     "name": "stderr",
     "output_type": "stream",
     "text": [
      "C:\\Users\\admin\\AppData\\Local\\Temp\\ipykernel_29640\\2620512803.py:29: UserWarning: The provided table name 'Sales' is not found exactly as such in the database after writing the table, possibly due to case sensitivity issues. Consider using lower case table names.\n",
      "  df.to_sql(table_name, con=engine, if_exists='replace', index=False)\n"
     ]
    }
   ],
   "source": [
    "import pandas as pd\n",
    "from sqlalchemy import create_engine\n",
    "import urllib.parse\n",
    "\n",
    "# Define the CSV file path\n",
    "csv_file_path = 'R:/Upenergy project/Sales.csv'\n",
    "\n",
    "# Define your MySQL connection details\n",
    "username = 'root'\n",
    "password = 'Reaemanz@outlook1'\n",
    "host = 'localhost'\n",
    "port = '3306'\n",
    "database = 'upenergy_project1'\n",
    "table_name = 'Sales'\n",
    "\n",
    "# URL encode the password\n",
    "encoded_password = urllib.parse.quote_plus(password)\n",
    "\n",
    "# Create a connection string with URL encoded password\n",
    "connection_string = f'mysql+pymysql://{username}:{encoded_password}@{host}:{port}/{database}'\n",
    "\n",
    "# Create a SQLAlchemy engine\n",
    "engine = create_engine(connection_string)\n",
    "\n",
    "# Read the CSV file into a DataFrame\n",
    "df = pd.read_csv(csv_file_path)\n",
    "\n",
    "# Import the DataFrame into MySQL\n",
    "df.to_sql(table_name, con=engine, if_exists='replace', index=False)\n",
    "\n",
    "print(\"Data imported successfully.\")\n"
   ]
  },
  {
   "cell_type": "markdown",
   "metadata": {},
   "source": [
    "Customer table"
   ]
  },
  {
   "cell_type": "code",
   "execution_count": 13,
   "metadata": {},
   "outputs": [
    {
     "name": "stdout",
     "output_type": "stream",
     "text": [
      "Data imported successfully.\n"
     ]
    },
    {
     "name": "stderr",
     "output_type": "stream",
     "text": [
      "C:\\Users\\admin\\AppData\\Local\\Temp\\ipykernel_29640\\1577781659.py:29: UserWarning: The provided table name 'Customers' is not found exactly as such in the database after writing the table, possibly due to case sensitivity issues. Consider using lower case table names.\n",
      "  df.to_sql(table_name, con=engine, if_exists='replace', index=False)\n"
     ]
    }
   ],
   "source": [
    "import pandas as pd\n",
    "from sqlalchemy import create_engine\n",
    "import urllib.parse\n",
    "\n",
    "# Define the CSV file path\n",
    "csv_file_path = 'R:/Upenergy project/Customers.csv'\n",
    "\n",
    "# Define your MySQL connection details\n",
    "username = 'root'\n",
    "password = 'Reaemanz@outlook1'\n",
    "host = 'localhost'\n",
    "port = '3306'\n",
    "database = 'upenergy_project1'\n",
    "table_name = 'Customers'\n",
    "\n",
    "# URL encode the password\n",
    "encoded_password = urllib.parse.quote_plus(password)\n",
    "\n",
    "# Create a connection string with URL encoded password\n",
    "connection_string = f'mysql+pymysql://{username}:{encoded_password}@{host}:{port}/{database}'\n",
    "\n",
    "# Create a SQLAlchemy engine\n",
    "engine = create_engine(connection_string)\n",
    "\n",
    "# Read the CSV file into a DataFrame\n",
    "df = pd.read_csv(csv_file_path)\n",
    "\n",
    "# Import the DataFrame into MySQL\n",
    "df.to_sql(table_name, con=engine, if_exists='replace', index=False)\n",
    "\n",
    "print(\"Data imported successfully.\")\n"
   ]
  },
  {
   "cell_type": "code",
   "execution_count": 14,
   "metadata": {},
   "outputs": [
    {
     "name": "stdout",
     "output_type": "stream",
     "text": [
      "Data imported successfully.\n"
     ]
    },
    {
     "name": "stderr",
     "output_type": "stream",
     "text": [
      "C:\\Users\\admin\\AppData\\Local\\Temp\\ipykernel_29640\\2530771623.py:29: UserWarning: The provided table name 'Items' is not found exactly as such in the database after writing the table, possibly due to case sensitivity issues. Consider using lower case table names.\n",
      "  df.to_sql(table_name, con=engine, if_exists='replace', index=False)\n"
     ]
    },
    {
     "ename": "",
     "evalue": "",
     "output_type": "error",
     "traceback": [
      "\u001b[1;31mThe Kernel crashed while executing code in the current cell or a previous cell. \n",
      "\u001b[1;31mPlease review the code in the cell(s) to identify a possible cause of the failure. \n",
      "\u001b[1;31mClick <a href='https://aka.ms/vscodeJupyterKernelCrash'>here</a> for more info. \n",
      "\u001b[1;31mView Jupyter <a href='command:jupyter.viewOutput'>log</a> for further details."
     ]
    }
   ],
   "source": [
    "import pandas as pd\n",
    "from sqlalchemy import create_engine\n",
    "import urllib.parse\n",
    "\n",
    "# Define the CSV file path\n",
    "csv_file_path = 'R:/Upenergy project/Items.csv'\n",
    "\n",
    "# Define your MySQL connection details\n",
    "username = 'root'\n",
    "password = 'Reaemanz@outlook1'\n",
    "host = 'localhost'\n",
    "port = '3306'\n",
    "database = 'upenergy_project1'\n",
    "table_name = 'Items'\n",
    "\n",
    "# URL encode the password\n",
    "encoded_password = urllib.parse.quote_plus(password)\n",
    "\n",
    "# Create a connection string with URL encoded password\n",
    "connection_string = f'mysql+pymysql://{username}:{encoded_password}@{host}:{port}/{database}'\n",
    "\n",
    "# Create a SQLAlchemy engine\n",
    "engine = create_engine(connection_string)\n",
    "\n",
    "# Read the CSV file into a DataFrame\n",
    "df = pd.read_csv(csv_file_path)\n",
    "\n",
    "# Import the DataFrame into MySQL\n",
    "df.to_sql(table_name, con=engine, if_exists='replace', index=False)\n",
    "\n",
    "print(\"Data imported successfully.\")\n"
   ]
  }
 ],
 "metadata": {
  "kernelspec": {
   "display_name": "Python 3",
   "language": "python",
   "name": "python3"
  },
  "language_info": {
   "codemirror_mode": {
    "name": "ipython",
    "version": 3
   },
   "file_extension": ".py",
   "mimetype": "text/x-python",
   "name": "python",
   "nbconvert_exporter": "python",
   "pygments_lexer": "ipython3",
   "version": "3.11.4"
  }
 },
 "nbformat": 4,
 "nbformat_minor": 2
}
